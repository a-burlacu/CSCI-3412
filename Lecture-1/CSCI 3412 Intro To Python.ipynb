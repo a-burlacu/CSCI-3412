{
 "cells": [
  {
   "cell_type": "markdown",
   "metadata": {
    "pycharm": {
     "name": "#%% md\n"
    }
   },
   "source": [
    "# Lecture 1"
   ]
  },
  {
   "cell_type": "markdown",
   "metadata": {
    "pycharm": {
     "name": "#%% md\n"
    }
   },
   "source": [
    "### Some Easter Eggs"
   ]
  },
  {
   "cell_type": "code",
   "execution_count": null,
   "metadata": {
    "pycharm": {
     "name": "#%%\n"
    }
   },
   "outputs": [],
   "source": [
    "# The Zen of Python\n",
    "import this"
   ]
  },
  {
   "cell_type": "code",
   "execution_count": null,
   "metadata": {
    "collapsed": true,
    "pycharm": {
     "name": "#%%\n"
    }
   },
   "outputs": [],
   "source": [
    "#Python hello world! and more\n",
    "import __hello__"
   ]
  },
  {
   "cell_type": "markdown",
   "metadata": {
    "pycharm": {
     "name": "#%% md\n"
    }
   },
   "source": [
    "### Reserved words vs. Keywords"
   ]
  },
  {
   "cell_type": "code",
   "execution_count": null,
   "metadata": {
    "pycharm": {
     "name": "#%%\n"
    }
   },
   "outputs": [],
   "source": [
    "# dioplay all Python keywords\n",
    "help(\"keywords\")\n",
    "\n",
    "help(\"yield\")   #make sure you enter a keyword in string format"
   ]
  },
  {
   "cell_type": "code",
   "execution_count": null,
   "metadata": {
    "pycharm": {
     "name": "#%%\n"
    }
   },
   "outputs": [],
   "source": [
    "# keywords/reserved words vs. predefined identifiers\n",
    "\n",
    "# 'int' is a predefined identifier --> it can be reassinged to ohter valuse\n",
    "int = \"Hello\"\n",
    "print (int, type(int))\n",
    "int = type(9)\n",
    "print (int, type(int))"
   ]
  },
  {
   "cell_type": "code",
   "execution_count": null,
   "metadata": {
    "pycharm": {
     "name": "#%%\n"
    }
   },
   "outputs": [],
   "source": [
    "# 'False' is a reserved word--> it can NOT be reassinged to ohter valuse\n",
    "print(False, type(False))\n",
    "False = \"World\""
   ]
  },
  {
   "cell_type": "markdown",
   "metadata": {
    "pycharm": {
     "name": "#%% md\n"
    }
   },
   "source": [
    "### Scalar (primitive) types, type casting, strong type"
   ]
  },
  {
   "cell_type": "code",
   "execution_count": null,
   "metadata": {
    "pycharm": {
     "name": "#%%\n"
    }
   },
   "outputs": [],
   "source": [
    "print(type(3), type(\"Hello\"), type(3.1), type(False), type(None))"
   ]
  },
  {
   "cell_type": "code",
   "execution_count": null,
   "metadata": {
    "pycharm": {
     "name": "#%%\n"
    }
   },
   "outputs": [],
   "source": [
    "#type conversion: casting (explicit) vs coercion (implicit)\n",
    "type(3 + 3.5)        # coercion"
   ]
  },
  {
   "cell_type": "code",
   "execution_count": null,
   "metadata": {
    "pycharm": {
     "name": "#%%\n"
    }
   },
   "outputs": [],
   "source": [
    "type(int(3 + 3.5))   # casting"
   ]
  },
  {
   "cell_type": "code",
   "execution_count": null,
   "metadata": {
    "pycharm": {
     "name": "#%%\n"
    }
   },
   "outputs": [],
   "source": [
    "# Strong type checkikng -- raising an exception\n",
    "e = \"Hello\"\n",
    "print (type(e), type(1))\n",
    "#e = 5\n",
    "e = e + 1   # Can't add a string with an integer"
   ]
  },
  {
   "cell_type": "markdown",
   "metadata": {
    "pycharm": {
     "name": "#%% md\n"
    }
   },
   "source": [
    "### Operations"
   ]
  },
  {
   "cell_type": "code",
   "execution_count": null,
   "metadata": {
    "pycharm": {
     "name": "#%%\n"
    }
   },
   "outputs": [],
   "source": [
    "3+10   # shows interaction within Jupyter"
   ]
  },
  {
   "cell_type": "code",
   "execution_count": null,
   "metadata": {
    "pycharm": {
     "name": "#%%\n"
    }
   },
   "outputs": [],
   "source": [
    "print (3+10)  # actually displays the out of the expression to the user"
   ]
  },
  {
   "cell_type": "code",
   "execution_count": null,
   "metadata": {
    "pycharm": {
     "name": "#%%\n"
    }
   },
   "outputs": [],
   "source": [
    "print(8/3, 8//3, 10%3)"
   ]
  },
  {
   "cell_type": "markdown",
   "metadata": {
    "pycharm": {
     "name": "#%% md\n"
    }
   },
   "source": [
    "### Comments"
   ]
  },
  {
   "cell_type": "code",
   "execution_count": null,
   "metadata": {
    "pycharm": {
     "name": "#%%\n"
    }
   },
   "outputs": [],
   "source": [
    "//this is a commment  NOT!!"
   ]
  },
  {
   "cell_type": "code",
   "execution_count": null,
   "metadata": {
    "pycharm": {
     "name": "#%%\n"
    }
   },
   "outputs": [],
   "source": [
    "/* this is a comment NOT!! */"
   ]
  },
  {
   "cell_type": "code",
   "execution_count": null,
   "metadata": {
    "pycharm": {
     "name": "#%%\n"
    }
   },
   "outputs": [],
   "source": [
    "# This is a comment "
   ]
  },
  {
   "cell_type": "markdown",
   "metadata": {
    "pycharm": {
     "name": "#%% md\n"
    }
   },
   "source": [
    "### Doc string - triple double quotes or single quotes"
   ]
  },
  {
   "cell_type": "code",
   "execution_count": null,
   "metadata": {
    "pycharm": {
     "name": "#%%\n"
    }
   },
   "outputs": [],
   "source": [
    "def aFunc(arg1):\n",
    "    '''\n",
    "    This is a docstring.\n",
    "    \n",
    "    some more details\n",
    "    blah blah blah\n",
    "    '''\n",
    "    print(\"Hello\")"
   ]
  },
  {
   "cell_type": "code",
   "execution_count": null,
   "metadata": {
    "pycharm": {
     "name": "#%%\n"
    }
   },
   "outputs": [],
   "source": [
    "help(aFunc)"
   ]
  },
  {
   "cell_type": "code",
   "execution_count": null,
   "metadata": {
    "pycharm": {
     "name": "#%%\n"
    }
   },
   "outputs": [],
   "source": [
    "aFunc.__doc__"
   ]
  },
  {
   "cell_type": "markdown",
   "metadata": {
    "pycharm": {
     "name": "#%% md\n"
    }
   },
   "source": [
    "### print()"
   ]
  },
  {
   "cell_type": "code",
   "execution_count": null,
   "metadata": {
    "pycharm": {
     "name": "#%%\n"
    }
   },
   "outputs": [],
   "source": [
    "hi = \"Hi!\"\n",
    "name = \"Sung\"\n",
    "greet = hi + \" \" + name # '/n'\n",
    "print (greet)\n",
    "print (greet, \"!\")\n",
    "\n",
    "#print (greet, \"!\", sep = \"*\")\n",
    "\n",
    "#aFile = open(\"out.out\", \"w\")\n",
    "#print (greet, \"!\", \"Bye!\", sep = \"&\", file=aFile, flush = True)\n"
   ]
  },
  {
   "cell_type": "code",
   "execution_count": null,
   "metadata": {
    "pycharm": {
     "name": "#%%\n"
    }
   },
   "outputs": [],
   "source": [
    "print(greet*3)"
   ]
  },
  {
   "cell_type": "code",
   "execution_count": null,
   "metadata": {
    "pycharm": {
     "name": "#%%\n"
    }
   },
   "outputs": [],
   "source": [
    "print(f\"Greeting: {hi} {name} !!\")   #f-string format"
   ]
  },
  {
   "cell_type": "code",
   "execution_count": null,
   "metadata": {
    "pycharm": {
     "name": "#%%\n"
    }
   },
   "outputs": [],
   "source": [
    "# Compare between two \n",
    "\n",
    "aNum = input(\"Type your number\")\n",
    "#aNum = int(input(\"Type your number\"))\n",
    "print(5*aNum)"
   ]
  },
  {
   "cell_type": "code",
   "execution_count": null,
   "metadata": {
    "pycharm": {
     "name": "#%%\n"
    }
   },
   "outputs": [],
   "source": [
    "a = 5\n",
    "print (a == 5)"
   ]
  },
  {
   "cell_type": "markdown",
   "metadata": {
    "pycharm": {
     "name": "#%% md\n"
    }
   },
   "source": [
    "### control flow"
   ]
  },
  {
   "cell_type": "code",
   "execution_count": null,
   "metadata": {
    "pycharm": {
     "name": "#%%\n"
    }
   },
   "outputs": [],
   "source": [
    "x = 4; y = 3\n",
    "if x > y :\n",
    "    print (\"greater\")\n",
    "elif x == y:\n",
    "    print (\"the same\")\n",
    "else:\n",
    "    print (\"smaller\")\n",
    "    "
   ]
  },
  {
   "cell_type": "code",
   "execution_count": null,
   "metadata": {
    "pycharm": {
     "name": "#%%\n"
    }
   },
   "outputs": [],
   "source": [
    "n = 0    \n",
    "while n < 5:\n",
    "    print(n)   \n",
    "    n = n+1"
   ]
  },
  {
   "cell_type": "code",
   "execution_count": null,
   "metadata": {
    "pycharm": {
     "name": "#%%\n"
    }
   },
   "outputs": [],
   "source": [
    "for n in range(5):\n",
    "    print(n)"
   ]
  },
  {
   "cell_type": "code",
   "execution_count": null,
   "metadata": {
    "pycharm": {
     "name": "#%%\n"
    }
   },
   "outputs": [],
   "source": [
    "mysum = 0\n",
    "for i in range(5, 11, 2):  \n",
    "    mysum += i\n",
    "print(mysum) #21 = 5 + 7 + 9"
   ]
  },
  {
   "cell_type": "code",
   "execution_count": null,
   "metadata": {
    "pycharm": {
     "name": "#%%\n"
    }
   },
   "outputs": [],
   "source": [
    "mysum = 0\n",
    "for i in range (5, 11, 2):  \n",
    "    mysum += i\n",
    "    if mysum == 5:  \n",
    "        break \n",
    "        \n",
    "print(mysum)"
   ]
  },
  {
   "cell_type": "markdown",
   "metadata": {
    "pycharm": {
     "name": "#%% md\n"
    }
   },
   "source": [
    "# Strings"
   ]
  },
  {
   "cell_type": "code",
   "execution_count": null,
   "metadata": {
    "pycharm": {
     "name": "#%%\n"
    }
   },
   "outputs": [],
   "source": [
    "s = \"ABCDEF\"\n",
    "print(s[-1], s[-2], s[-3], s[-4])"
   ]
  },
  {
   "cell_type": "code",
   "execution_count": null,
   "metadata": {
    "pycharm": {
     "name": "#%%\n"
    }
   },
   "outputs": [],
   "source": [
    "s[::]"
   ]
  },
  {
   "cell_type": "code",
   "execution_count": null,
   "metadata": {
    "pycharm": {
     "name": "#%%\n"
    }
   },
   "outputs": [],
   "source": [
    "s[::-1]\n"
   ]
  },
  {
   "cell_type": "code",
   "execution_count": null,
   "metadata": {
    "pycharm": {
     "name": "#%%\n"
    }
   },
   "outputs": [],
   "source": [
    "s[4:1:-2]"
   ]
  },
  {
   "cell_type": "code",
   "execution_count": null,
   "metadata": {
    "pycharm": {
     "name": "#%%\n"
    }
   },
   "outputs": [],
   "source": [
    "#s[3] = 'K'  # Error\n",
    "s = \"ABCDEF\"\n",
    "s = s[:3] + 'K' + s[4:len(s)]\n",
    "print(s)"
   ]
  },
  {
   "cell_type": "code",
   "execution_count": null,
   "metadata": {
    "pycharm": {
     "name": "#%%\n"
    }
   },
   "outputs": [],
   "source": [
    "#Exercise - displaying all the common characters\n",
    "s1 = \"ucd u rock\"  \n",
    "s2 = \"i rule ucd\"\n",
    "if len(s1) == len(s2):  \n",
    "    for char1 in s1:\n",
    "        for char2 in s2:\n",
    "            if char1 == char2:\n",
    "                print(f\"common letter: {char1}\")  \n",
    "                break"
   ]
  },
  {
   "cell_type": "markdown",
   "metadata": {
    "pycharm": {
     "name": "#%% md\n"
    }
   },
   "source": [
    "# Functions"
   ]
  },
  {
   "cell_type": "code",
   "execution_count": null,
   "metadata": {
    "pycharm": {
     "name": "#%%\n"
    }
   },
   "outputs": [],
   "source": [
    "def is_even (i):\n",
    "    \"\"\"\n",
    "    Input: i, a positive int\n",
    "    Returns True if i is even, otherwise False  \n",
    "    \"\"\"\n",
    "    #print(\"inside is_even\")\n",
    "    return i%2 == 0\n",
    "\n",
    "print(is_even(3))\n",
    "print(is_even(4))"
   ]
  },
  {
   "cell_type": "code",
   "execution_count": null,
   "metadata": {
    "pycharm": {
     "name": "#%%\n"
    }
   },
   "outputs": [],
   "source": [
    "def is_odd (i) :\n",
    "    return not is_even(i)\n",
    "\n",
    "print(is_odd(3))\n",
    "print(is_odd(4))"
   ]
  },
  {
   "cell_type": "code",
   "execution_count": null,
   "metadata": {
    "pycharm": {
     "name": "#%%\n"
    }
   },
   "outputs": [],
   "source": [
    "#funciton parameters scope\n",
    "def f( x ):\n",
    "    x = x + 1\n",
    "    print('in f(x): x =', x)  \n",
    "    return x\n",
    "\n",
    "x = 3\n",
    "z = f(x)\n",
    "print(f\"In global scope: x = {x}\")"
   ]
  },
  {
   "cell_type": "code",
   "execution_count": null,
   "metadata": {
    "pycharm": {
     "name": "#%%\n"
    }
   },
   "outputs": [],
   "source": [
    "def func_a():\n",
    "    print ('inside func_a')\n",
    "\n",
    "def func_b(y):\n",
    "    print ('inside func_b') \n",
    "    return y\n",
    "\n",
    "def func_c(z):\n",
    "    print ('inside func_c')  \n",
    "    return z()\n",
    "\n",
    "print (func_a(), \"\\n\")\n",
    "print (5 + func_b(2))\n",
    "print (\"hello \" + func_b(\"world\") + \"!\\n\")\n",
    "print (func_c(func_a))\n",
    "print (func_c (5)) # RuntimeError"
   ]
  },
  {
   "cell_type": "markdown",
   "metadata": {
    "pycharm": {
     "name": "#%% md\n"
    }
   },
   "source": [
    "# scope Example"
   ]
  },
  {
   "cell_type": "code",
   "execution_count": null,
   "metadata": {
    "pycharm": {
     "name": "#%%\n"
    }
   },
   "outputs": [],
   "source": [
    "# Inside a function, cannot modify a variable defined  outside\n",
    "def f(y):\n",
    "    x = 1   # Can access but can't chage x so x is redefined insdie this function\n",
    "    x += 1\n",
    "    print(x)\n",
    "\n",
    "x = 5\n",
    "f(x)\n",
    "print(x)  # x Not changed"
   ]
  },
  {
   "cell_type": "code",
   "execution_count": null,
   "metadata": {
    "pycharm": {
     "name": "#%%\n"
    }
   },
   "outputs": [],
   "source": [
    "# x is not modified inside the fnction so x is the one defined outside the function\n",
    "def g(y):\n",
    "    print(x)\n",
    "    print(x + 1)\n",
    "\n",
    "x = 5\n",
    "g(x)\n",
    "print(x)  # x Not changed"
   ]
  },
  {
   "cell_type": "code",
   "execution_count": null,
   "metadata": {
    "pycharm": {
     "name": "#%%\n"
    }
   },
   "outputs": [],
   "source": [
    "def h(y) :\n",
    "    x += 1  # x is being updated so a new local variable x is created but it's referring to an unbounded variable (x)\n",
    "\n",
    "x = 5\n",
    "h(x)\n",
    "print(x)  # Error"
   ]
  },
  {
   "cell_type": "markdown",
   "metadata": {
    "pycharm": {
     "name": "#%% md\n"
    }
   },
   "source": [
    "# Data Structure - Tuple"
   ]
  },
  {
   "cell_type": "code",
   "execution_count": null,
   "metadata": {
    "pycharm": {
     "name": "#%%\n"
    }
   },
   "outputs": [],
   "source": [
    "print (type((1)))"
   ]
  },
  {
   "cell_type": "code",
   "execution_count": null,
   "metadata": {
    "pycharm": {
     "name": "#%%\n"
    }
   },
   "outputs": [],
   "source": [
    "# watch out ','\n",
    "print (type((1,))) "
   ]
  },
  {
   "cell_type": "code",
   "execution_count": null,
   "metadata": {
    "pycharm": {
     "name": "#%%\n"
    }
   },
   "outputs": [],
   "source": [
    "t = (1, \"hello\", 3.5)\n",
    "print(t)"
   ]
  },
  {
   "cell_type": "code",
   "execution_count": null,
   "metadata": {
    "pycharm": {
     "name": "#%%\n"
    }
   },
   "outputs": [],
   "source": [
    "t[2] = 3"
   ]
  },
  {
   "cell_type": "code",
   "execution_count": null,
   "metadata": {
    "pycharm": {
     "name": "#%%\n"
    }
   },
   "outputs": [],
   "source": [
    "def get_data(tuples):\n",
    "    nums = ()\n",
    "    words = ()\n",
    "    for t in tuples:  \n",
    "        nums = nums + (t[0],)\n",
    "        if t[1] not in words:\n",
    "            words = words + (t[1],)\n",
    "            \n",
    "    min_n = min(nums)  \n",
    "    max_n = max(nums)\n",
    "    unique_words = len(words)\n",
    "    print(nums)\n",
    "    print(words)\n",
    "          \n",
    "    return (min_n, max_n, unique_words)\n",
    "\n",
    "myTuple = ((0, \"hello\"), (1, \"hi\"), (2, \"hi\"), (5, \"hi\"))\n",
    "(minVal, maxVal, unique) = get_data(myTuple)\n",
    "print(minVal, maxVal, unique)"
   ]
  },
  {
   "cell_type": "markdown",
   "metadata": {
    "pycharm": {
     "name": "#%% md\n"
    }
   },
   "source": [
    "# Data Structure - List"
   ]
  },
  {
   "cell_type": "code",
   "execution_count": null,
   "metadata": {
    "pycharm": {
     "name": "#%%\n"
    }
   },
   "outputs": [],
   "source": [
    "A = [1, 2, 4, 3, 4]\n",
    "A.remove(4)\n",
    "# (1)This will print [1, 2, 3, 4]\n",
    "print(f\"Example 1 : A = {A}\")"
   ]
  },
  {
   "cell_type": "code",
   "execution_count": null,
   "metadata": {
    "pycharm": {
     "name": "#%%\n"
    }
   },
   "outputs": [],
   "source": [
    "# (2) Delete an item with index\n",
    "A = [1, 2, 4, 3, 4]\n",
    "del A[2]    # how come del works without enclosing parentheses?  --> 'del' is a keyword\n",
    "\n",
    "# This will print [1, 2, 3, 4]\n",
    "# Two ways to format a string\n",
    "print(\"Example 2 : A = {}\".format(A))\n",
    "print(f\"Example 2 : A = {A}\")"
   ]
  },
  {
   "cell_type": "code",
   "execution_count": null,
   "metadata": {
    "pycharm": {
     "name": "#%%\n"
    }
   },
   "outputs": [],
   "source": [
    "# (3) Delete all items\n",
    "A = [1, 2, 4, 3, 4]\n",
    "del A[:]\n",
    "# This will print []\n",
    "print(\"Example 3 : A = {}\".format(A))"
   ]
  },
  {
   "cell_type": "code",
   "execution_count": null,
   "metadata": {
    "pycharm": {
     "name": "#%%\n"
    }
   },
   "outputs": [],
   "source": [
    "# (4) Delete a slice 2, 4\n",
    "A = [1, 2, 4, 3, 4]\n",
    "del A[1:3]\n",
    "# This will print [1, 3, 4]\n",
    "print(\"Example 4 : A = {}\".format(A))\n",
    " "
   ]
  },
  {
   "cell_type": "code",
   "execution_count": null,
   "metadata": {
    "pycharm": {
     "name": "#%%\n"
    }
   },
   "outputs": [],
   "source": [
    "# (5) pop: remove and get the last item\n",
    "A = [1, 2, 4, 3, 4]\n",
    "x = A.pop()\n",
    "\n",
    "# This will print [1, 2, 4, 3]\n",
    "print(\"Example 5 : A = {}\".format(A))\n",
    "\n",
    "# This will print 4\n",
    "print(\"Example 5 : x = {}\".format(x))\n",
    " "
   ]
  },
  {
   "cell_type": "code",
   "execution_count": null,
   "metadata": {
    "pycharm": {
     "name": "#%%\n"
    }
   },
   "outputs": [],
   "source": [
    "# (6) pop with index: remove and get the second item\n",
    "A = [1, 2, 4, 3, 4]\n",
    "x = A.pop(1)\n",
    "\n",
    "# This will print [1, 4, 3, 4]\n",
    "print(\"Example 6 : A = {}\".format(A))\n",
    "\n",
    "# This will print 2\n",
    "print(\"Example 6 : x = {}\".format(x))"
   ]
  },
  {
   "cell_type": "code",
   "execution_count": null,
   "metadata": {
    "pycharm": {
     "name": "#%%\n"
    }
   },
   "outputs": [],
   "source": [
    "B = [1,2,3,4]\n",
    "sorted (B)  \n",
    "del B[1]     \n",
    "B"
   ]
  },
  {
   "cell_type": "markdown",
   "metadata": {
    "pycharm": {
     "name": "#%% md\n"
    }
   },
   "source": [
    "# some more function scope stuff"
   ]
  },
  {
   "cell_type": "code",
   "execution_count": null,
   "metadata": {
    "pycharm": {
     "name": "#%%\n"
    }
   },
   "outputs": [],
   "source": [
    "def f(y):\n",
    "    x = 1\n",
    "    x += 1\n",
    "    print(\"Local: \", x)\n",
    "    \n",
    "x = 5\n",
    "f(x)\n",
    "print(\"Global: \", x)"
   ]
  },
  {
   "cell_type": "code",
   "execution_count": null,
   "metadata": {
    "pycharm": {
     "name": "#%%\n"
    }
   },
   "outputs": [],
   "source": [
    "def g(y):\n",
    "    print(\"Local: \", x)\n",
    "    print(\"Local 1: \", x+1)\n",
    "    \n",
    "x = 5\n",
    "g(x)\n",
    "print(\"Global: \", x)"
   ]
  },
  {
   "cell_type": "code",
   "execution_count": null,
   "metadata": {
    "pycharm": {
     "name": "#%%\n"
    }
   },
   "outputs": [],
   "source": [
    "def h(y):\n",
    "    x += 1\n",
    "    \n",
    "x = 5\n",
    "h(x)\n",
    "print(x)"
   ]
  },
  {
   "cell_type": "code",
   "execution_count": null,
   "metadata": {
    "pycharm": {
     "name": "#%%\n"
    }
   },
   "outputs": [],
   "source": [
    "def g(x):\n",
    "    \n",
    "    def h():\n",
    "        x = 'abc'  \n",
    "        \n",
    "    x = x + 1\n",
    "    print('g: x =', x)  \n",
    "    h()\n",
    "    return x\n",
    "\n",
    "x = 3\n",
    "z = g(x)\n",
    "print (x, z)\n"
   ]
  },
  {
   "cell_type": "markdown",
   "metadata": {
    "pycharm": {
     "name": "#%% md\n"
    }
   },
   "source": [
    "# OOP"
   ]
  },
  {
   "cell_type": "code",
   "execution_count": null,
   "metadata": {
    "pycharm": {
     "name": "#%%\n"
    }
   },
   "outputs": [],
   "source": [
    "# Everything is object\n",
    "x, y = (4, 5)\n",
    "print (x + y)\n",
    "print(x.__add__(y))"
   ]
  },
  {
   "cell_type": "code",
   "execution_count": null,
   "metadata": {
    "pycharm": {
     "name": "#%%\n"
    }
   },
   "outputs": [],
   "source": [
    "# Coordinate class\n",
    "class Coordinate(object):\n",
    "    def __init__ (self, x, y):\n",
    "        self.x = x  \n",
    "        self.y = y\n",
    "        \n",
    "    def distance(self, other):  \n",
    "        x_diff_sq = (self.x-other.x)**2  \n",
    "        y_diff_sq = (self.y-other.y)**2\n",
    "        return (x_diff_sq + y_diff_sq)**0.5\n",
    "    \n",
    "    '''\n",
    "    def __str__ (self) :\n",
    "        return \"<\" + str(self.x) + \",\" + str(self.y)+ \">\"\n",
    "    '''"
   ]
  },
  {
   "cell_type": "code",
   "execution_count": null,
   "metadata": {
    "pycharm": {
     "name": "#%%\n"
    }
   },
   "outputs": [],
   "source": [
    "# testing __str()__\n",
    "c = Coordinate(3,4)  \n",
    "origin = Coordinate(0,0)  \n",
    "print(c.x)  \n",
    "print(origin.x)\n",
    "print(c)"
   ]
  },
  {
   "cell_type": "code",
   "execution_count": null,
   "metadata": {
    "pycharm": {
     "name": "#%%\n"
    }
   },
   "outputs": [],
   "source": [
    "isinstance(c, Coordinate)"
   ]
  },
  {
   "cell_type": "code",
   "execution_count": null,
   "metadata": {
    "pycharm": {
     "name": "#%%\n"
    }
   },
   "outputs": [],
   "source": [
    "#No function overloading is supported in Python\n",
    "def sum (x, y):\n",
    "      return x + y\n",
    "\n",
    "def sum (x, y, z):\n",
    "      return x + y + z\n",
    "\n",
    "print(sum(5,10, 15))\n",
    "#print(sum(5,10))"
   ]
  },
  {
   "cell_type": "code",
   "execution_count": null,
   "metadata": {
    "pycharm": {
     "name": "#%%\n"
    }
   },
   "outputs": [],
   "source": [
    "import sys\n",
    "dir(sys)"
   ]
  },
  {
   "cell_type": "markdown",
   "metadata": {
    "pycharm": {
     "name": "#%% md\n"
    }
   },
   "source": [
    "# Map, Filter, Reduce"
   ]
  },
  {
   "cell_type": "code",
   "execution_count": null,
   "metadata": {
    "pycharm": {
     "name": "#%%\n"
    }
   },
   "outputs": [],
   "source": [
    "my_pets = ['alfred', 'tabitha', 'william', 'arla']\n",
    "uppered_pets = []"
   ]
  },
  {
   "cell_type": "code",
   "execution_count": null,
   "metadata": {
    "pycharm": {
     "name": "#%%\n"
    }
   },
   "outputs": [],
   "source": [
    "# mapping - alternative 1\n",
    "for pet in my_pets:\n",
    "    pet_ = pet.upper()\n",
    "    uppered_pets.append(pet_)\n",
    "\n",
    "print(uppered_pets)"
   ]
  },
  {
   "cell_type": "code",
   "execution_count": null,
   "metadata": {
    "pycharm": {
     "name": "#%%\n"
    }
   },
   "outputs": [],
   "source": [
    "# mapping - alternative 2\n",
    "uppered_pets = list(map(str.upper, my_pets))\n",
    "print(uppered_pets)"
   ]
  },
  {
   "cell_type": "code",
   "execution_count": null,
   "metadata": {
    "pycharm": {
     "name": "#%%\n"
    }
   },
   "outputs": [],
   "source": [
    "# Filter an element without 'l'\n",
    "filtered_pets = list(filter((lambda x: \"l\" in x), my_pets))\n",
    "print(filtered_pets)"
   ]
  },
  {
   "cell_type": "code",
   "execution_count": null,
   "metadata": {
    "pycharm": {
     "name": "#%%\n"
    }
   },
   "outputs": [],
   "source": [
    "# Reduce: like an arithmetic series\n",
    "# Need to import reduce() from functools module, not built-in function\n",
    "# It reduces a list of items to a single cumulative value. \n",
    "from functools import reduce\n",
    "\n",
    "totalLength = len(reduce((lambda x, y: x + y), my_pets))\n",
    "print(totalLength)"
   ]
  },
  {
   "cell_type": "code",
   "execution_count": null,
   "metadata": {
    "pycharm": {
     "name": "#%%\n"
    }
   },
   "outputs": [],
   "source": [
    "help (\"str\")"
   ]
  },
  {
   "cell_type": "markdown",
   "metadata": {
    "pycharm": {
     "name": "#%% md\n"
    }
   },
   "source": [
    "# Previous semesters HW1 A soultion"
   ]
  },
  {
   "cell_type": "code",
   "execution_count": null,
   "metadata": {
    "pycharm": {
     "name": "#%%\n"
    }
   },
   "outputs": [],
   "source": [
    "# If your code has more than 4 lines except the ones coded for error checking, \n",
    "# your code may not be pythonic.\n",
    "print(\"Hello CSCI 3412 !!\")\n",
    "aNum = int(input(\"Please enter an integer:\"))\n",
    "\n",
    "# unformatted version\n",
    "for i in range(-aNum, aNum + 1, 2):     \n",
    "    print(\"Num: \", i, i**2)\n",
    "\n",
    "# string formatted version\n",
    "print(\"\\nFormatted version\")\n",
    "for i in range(-aNum, aNum+1, 2): \n",
    "    print (f\"Num: {i: >5} {i**2: >8}\" )"
   ]
  },
  {
   "cell_type": "code",
   "execution_count": null,
   "metadata": {
    "pycharm": {
     "name": "#%%\n"
    }
   },
   "outputs": [],
   "source": []
  }
 ],
 "metadata": {
  "kernelspec": {
   "display_name": "Python 3.9.7 64-bit (system)",
   "language": "python",
   "name": "python3"
  },
  "language_info": {
   "codemirror_mode": {
    "name": "ipython",
    "version": 3
   },
   "file_extension": ".py",
   "mimetype": "text/x-python",
   "name": "python",
   "nbconvert_exporter": "python",
   "pygments_lexer": "ipython3",
   "version": "3.9.7"
  },
  "vscode": {
   "interpreter": {
    "hash": "2a8dfe095fce2b5e88c64a2c3ee084c8e0e0d70b23e7b95b1cfb538be294c5c8"
   }
  }
 },
 "nbformat": 4,
 "nbformat_minor": 2
}
