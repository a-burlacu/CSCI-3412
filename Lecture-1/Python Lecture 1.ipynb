{
 "cells": [
  {
   "cell_type": "markdown",
   "metadata": {
    "pycharm": {
     "name": "#%% md\n"
    }
   },
   "source": [
    "# Lecture 1"
   ]
  },
  {
   "cell_type": "code",
   "execution_count": null,
   "metadata": {
    "pycharm": {
     "name": "#%%\n"
    }
   },
   "outputs": [],
   "source": [
    "type(5)"
   ]
  },
  {
   "cell_type": "code",
   "execution_count": null,
   "metadata": {
    "pycharm": {
     "name": "#%%\n"
    }
   },
   "outputs": [],
   "source": [
    "type(3.0)"
   ]
  },
  {
   "cell_type": "code",
   "execution_count": null,
   "metadata": {
    "scrolled": true,
    "pycharm": {
     "name": "#%%\n"
    }
   },
   "outputs": [],
   "source": [
    "float(3)"
   ]
  },
  {
   "cell_type": "code",
   "execution_count": null,
   "metadata": {
    "pycharm": {
     "name": "#%%\n"
    }
   },
   "outputs": [],
   "source": [
    "int(3.9)"
   ]
  },
  {
   "cell_type": "code",
   "execution_count": 1,
   "metadata": {
    "pycharm": {
     "name": "#%%\n"
    }
   },
   "outputs": [
    {
     "ename": "TypeError",
     "evalue": "can only concatenate str (not \"int\") to str",
     "output_type": "error",
     "traceback": [
      "\u001B[1;31m---------------------------------------------------------------------------\u001B[0m",
      "\u001B[1;31mTypeError\u001B[0m                                 Traceback (most recent call last)",
      "\u001B[1;32mc:\\Users\\Alina\\OneDrive - The University of Colorado Denver\\Coding\\CSCI-3412\\Lecture-1\\Python Lecture 1.ipynb Cell 6\u001B[0m in \u001B[0;36m<module>\u001B[1;34m\u001B[0m\n\u001B[0;32m      <a href='vscode-notebook-cell:/c%3A/Users/Alina/OneDrive%20-%20The%20University%20of%20Colorado%20Denver/Coding/CSCI-3412/Lecture-1/Python%20Lecture%201.ipynb#W5sZmlsZQ%3D%3D?line=0'>1</a>\u001B[0m e \u001B[39m=\u001B[39m \u001B[39m\"\u001B[39m\u001B[39mHello\u001B[39m\u001B[39m\"\u001B[39m\n\u001B[1;32m----> <a href='vscode-notebook-cell:/c%3A/Users/Alina/OneDrive%20-%20The%20University%20of%20Colorado%20Denver/Coding/CSCI-3412/Lecture-1/Python%20Lecture%201.ipynb#W5sZmlsZQ%3D%3D?line=1'>2</a>\u001B[0m e \u001B[39m=\u001B[39m e \u001B[39m+\u001B[39;49m \u001B[39m1\u001B[39;49m\n",
      "\u001B[1;31mTypeError\u001B[0m: can only concatenate str (not \"int\") to str"
     ]
    }
   ],
   "source": [
    "e = \"Hello\"\n",
    "e = e + 1"
   ]
  },
  {
   "cell_type": "code",
   "execution_count": null,
   "metadata": {
    "pycharm": {
     "name": "#%%\n"
    }
   },
   "outputs": [],
   "source": [
    "print (type (\"Hello\"), type(1))"
   ]
  },
  {
   "cell_type": "code",
   "execution_count": null,
   "metadata": {
    "pycharm": {
     "name": "#%%\n"
    }
   },
   "outputs": [],
   "source": [
    "3+10"
   ]
  },
  {
   "cell_type": "code",
   "execution_count": null,
   "metadata": {
    "pycharm": {
     "name": "#%%\n"
    }
   },
   "outputs": [],
   "source": [
    "print (3+10)"
   ]
  },
  {
   "cell_type": "code",
   "execution_count": null,
   "metadata": {
    "pycharm": {
     "name": "#%%\n"
    }
   },
   "outputs": [],
   "source": [
    "print(8/3, 8//3, 10%3)"
   ]
  },
  {
   "cell_type": "code",
   "execution_count": null,
   "metadata": {
    "pycharm": {
     "name": "#%%\n"
    }
   },
   "outputs": [],
   "source": [
    "//this is a commment  NOT!!"
   ]
  },
  {
   "cell_type": "code",
   "execution_count": null,
   "metadata": {
    "pycharm": {
     "name": "#%%\n"
    }
   },
   "outputs": [],
   "source": [
    "/* this is a comment NOT!! */"
   ]
  },
  {
   "cell_type": "code",
   "execution_count": null,
   "metadata": {
    "pycharm": {
     "name": "#%%\n"
    }
   },
   "outputs": [],
   "source": [
    "# This is a comment "
   ]
  },
  {
   "cell_type": "code",
   "execution_count": null,
   "metadata": {
    "pycharm": {
     "name": "#%%\n"
    }
   },
   "outputs": [],
   "source": [
    "def aFunc():\n",
    "    '''This is a docstring\n",
    "    some details\n",
    "    '''\n",
    "    print(\"Hello\")"
   ]
  },
  {
   "cell_type": "code",
   "execution_count": null,
   "metadata": {
    "pycharm": {
     "name": "#%%\n"
    }
   },
   "outputs": [],
   "source": [
    "help(aFunc)"
   ]
  },
  {
   "cell_type": "code",
   "execution_count": null,
   "metadata": {
    "pycharm": {
     "name": "#%%\n"
    }
   },
   "outputs": [],
   "source": [
    "aFunc.__doc__"
   ]
  },
  {
   "cell_type": "code",
   "execution_count": 2,
   "metadata": {
    "pycharm": {
     "name": "#%%\n"
    }
   },
   "outputs": [
    {
     "name": "stdout",
     "output_type": "stream",
     "text": [
      "Hi! Sung\n"
     ]
    }
   ],
   "source": [
    "hi = \"Hi!\"\n",
    "name = \"Sung\"\n",
    "greet = hi + \" \" + name # '/n'\n",
    "print (greet)"
   ]
  },
  {
   "cell_type": "code",
   "execution_count": 4,
   "metadata": {
    "pycharm": {
     "name": "#%%\n"
    }
   },
   "outputs": [
    {
     "name": "stdout",
     "output_type": "stream",
     "text": [
      "Hi! SungHi! SungHi! Sung\n"
     ]
    }
   ],
   "source": [
    "print(greet*3)"
   ]
  },
  {
   "cell_type": "code",
   "execution_count": 3,
   "metadata": {
    "pycharm": {
     "name": "#%%\n"
    }
   },
   "outputs": [
    {
     "name": "stdout",
     "output_type": "stream",
     "text": [
      "Greeting: Hi! Sung !!\n"
     ]
    }
   ],
   "source": [
    "print(f\"Greeting: {hi} {name} !!\")"
   ]
  },
  {
   "cell_type": "code",
   "execution_count": 5,
   "metadata": {
    "pycharm": {
     "name": "#%%\n"
    }
   },
   "outputs": [],
   "source": [
    "text = input(\"Type your number\")"
   ]
  },
  {
   "cell_type": "code",
   "execution_count": 6,
   "metadata": {
    "pycharm": {
     "name": "#%%\n"
    }
   },
   "outputs": [
    {
     "name": "stdout",
     "output_type": "stream",
     "text": [
      "99999\n"
     ]
    }
   ],
   "source": [
    "print(5*text)"
   ]
  },
  {
   "cell_type": "code",
   "execution_count": 7,
   "metadata": {
    "pycharm": {
     "name": "#%%\n"
    }
   },
   "outputs": [
    {
     "name": "stdout",
     "output_type": "stream",
     "text": [
      "True\n"
     ]
    }
   ],
   "source": [
    "a = 5\n",
    "print (a == 5)"
   ]
  },
  {
   "cell_type": "code",
   "execution_count": 8,
   "metadata": {
    "pycharm": {
     "name": "#%%\n"
    }
   },
   "outputs": [
    {
     "name": "stdout",
     "output_type": "stream",
     "text": [
      "smaller\n"
     ]
    }
   ],
   "source": [
    "if 2 > 3 :\n",
    "    print (\"greater\")\n",
    "else:\n",
    "    print (\"smaller\")\n",
    "    "
   ]
  },
  {
   "cell_type": "code",
   "execution_count": 9,
   "metadata": {
    "pycharm": {
     "name": "#%%\n"
    }
   },
   "outputs": [
    {
     "name": "stdout",
     "output_type": "stream",
     "text": [
      "0\n",
      "1\n",
      "2\n",
      "3\n",
      "4\n"
     ]
    }
   ],
   "source": [
    "n = 0    \n",
    "while n < 5:\n",
    "    print(n)   \n",
    "    n = n+1"
   ]
  },
  {
   "cell_type": "code",
   "execution_count": 10,
   "metadata": {
    "pycharm": {
     "name": "#%%\n"
    }
   },
   "outputs": [
    {
     "name": "stdout",
     "output_type": "stream",
     "text": [
      "0\n",
      "1\n",
      "2\n",
      "3\n",
      "4\n"
     ]
    }
   ],
   "source": [
    "for n in range(5):\n",
    "    print(n)"
   ]
  },
  {
   "cell_type": "code",
   "execution_count": null,
   "metadata": {
    "pycharm": {
     "name": "#%%\n"
    }
   },
   "outputs": [],
   "source": [
    "mysum = 0\n",
    "for i in range(5, 11, 2):  \n",
    "    mysum += i\n",
    "print(mysum) #21 = 5 + 7 + 9"
   ]
  },
  {
   "cell_type": "code",
   "execution_count": null,
   "metadata": {
    "pycharm": {
     "name": "#%%\n"
    }
   },
   "outputs": [],
   "source": [
    "mysum = 0\n",
    "for i in range (5, 11, 2):  \n",
    "    mysum += i\n",
    "    if mysum == 5:  \n",
    "        break \n",
    "        \n",
    "print(mysum)"
   ]
  },
  {
   "cell_type": "markdown",
   "metadata": {
    "pycharm": {
     "name": "#%% md\n"
    }
   },
   "source": [
    "# Strings"
   ]
  },
  {
   "cell_type": "code",
   "execution_count": 19,
   "metadata": {
    "pycharm": {
     "name": "#%%\n"
    }
   },
   "outputs": [
    {
     "name": "stdout",
     "output_type": "stream",
     "text": [
      "F E D C\n"
     ]
    }
   ],
   "source": [
    "s = \"ABCDEF\"\n",
    "print(s[-1], s[-2], s[-3], s[-4])"
   ]
  },
  {
   "cell_type": "code",
   "execution_count": 20,
   "metadata": {
    "pycharm": {
     "name": "#%%\n"
    }
   },
   "outputs": [
    {
     "data": {
      "text/plain": [
       "'ABCDEF'"
      ]
     },
     "execution_count": 20,
     "metadata": {},
     "output_type": "execute_result"
    }
   ],
   "source": [
    "s[::]"
   ]
  },
  {
   "cell_type": "code",
   "execution_count": 21,
   "metadata": {
    "pycharm": {
     "name": "#%%\n"
    }
   },
   "outputs": [
    {
     "data": {
      "text/plain": [
       "'FEDCBA'"
      ]
     },
     "execution_count": 21,
     "metadata": {},
     "output_type": "execute_result"
    }
   ],
   "source": [
    "s[::-1]\n"
   ]
  },
  {
   "cell_type": "code",
   "execution_count": 22,
   "metadata": {
    "pycharm": {
     "name": "#%%\n"
    }
   },
   "outputs": [
    {
     "data": {
      "text/plain": [
       "'EC'"
      ]
     },
     "execution_count": 22,
     "metadata": {},
     "output_type": "execute_result"
    }
   ],
   "source": [
    "s[4:1:-2]"
   ]
  },
  {
   "cell_type": "code",
   "execution_count": 24,
   "metadata": {
    "pycharm": {
     "name": "#%%\n"
    }
   },
   "outputs": [
    {
     "ename": "TypeError",
     "evalue": "'str' object does not support item assignment",
     "output_type": "error",
     "traceback": [
      "\u001B[1;31m---------------------------------------------------------------------------\u001B[0m",
      "\u001B[1;31mTypeError\u001B[0m                                 Traceback (most recent call last)",
      "\u001B[1;32mc:\\Users\\Alina\\OneDrive - The University of Colorado Denver\\Coding\\CSCI-3412\\Lecture-1\\Python Lecture 1.ipynb Cell 33\u001B[0m in \u001B[0;36m<module>\u001B[1;34m\u001B[0m\n\u001B[1;32m----> <a href='vscode-notebook-cell:/c%3A/Users/Alina/OneDrive%20-%20The%20University%20of%20Colorado%20Denver/Coding/CSCI-3412/Lecture-1/Python%20Lecture%201.ipynb#X44sZmlsZQ%3D%3D?line=0'>1</a>\u001B[0m s[\u001B[39m3\u001B[39m] \u001B[39m=\u001B[39m \u001B[39m'\u001B[39m\u001B[39mK\u001B[39m\u001B[39m'\u001B[39m\n",
      "\u001B[1;31mTypeError\u001B[0m: 'str' object does not support item assignment"
     ]
    }
   ],
   "source": [
    "s[3] = 'K'  # Error"
   ]
  },
  {
   "cell_type": "code",
   "execution_count": 11,
   "metadata": {
    "pycharm": {
     "name": "#%%\n"
    }
   },
   "outputs": [
    {
     "name": "stdout",
     "output_type": "stream",
     "text": [
      "common letter: u\n",
      "common letter: c\n",
      "common letter: d\n",
      "common letter:  \n",
      "common letter: u\n",
      "common letter:  \n",
      "common letter: r\n",
      "common letter: c\n"
     ]
    }
   ],
   "source": [
    "s1 = \"ucd u rock\"  \n",
    "s2 = \"i rule ucd\"\n",
    "if len(s1) == len(s2):  \n",
    "    for char1 in s1:\n",
    "        for char2 in s2:\n",
    "            if char1 == char2:\n",
    "                print(f\"common letter: {char1}\")  \n",
    "                break"
   ]
  },
  {
   "cell_type": "markdown",
   "metadata": {
    "pycharm": {
     "name": "#%% md\n"
    }
   },
   "source": [
    "# Functions"
   ]
  },
  {
   "cell_type": "code",
   "execution_count": 12,
   "metadata": {
    "pycharm": {
     "name": "#%%\n"
    }
   },
   "outputs": [
    {
     "name": "stdout",
     "output_type": "stream",
     "text": [
      "inside is_even\n",
      "False\n",
      "inside is_even\n",
      "True\n"
     ]
    }
   ],
   "source": [
    "def is_even (i):\n",
    "    \"\"\"\n",
    "    Input: i, a positive int\n",
    "    Returns True if i is even, otherwise False  \n",
    "    \"\"\"\n",
    "    print(\"inside is_even\")\n",
    "    return i%2 == 0\n",
    "\n",
    "print(is_even(3))\n",
    "print(is_even(4))"
   ]
  },
  {
   "cell_type": "code",
   "execution_count": 13,
   "metadata": {
    "pycharm": {
     "name": "#%%\n"
    }
   },
   "outputs": [
    {
     "name": "stdout",
     "output_type": "stream",
     "text": [
      "in f(x): x = 4\n",
      "x = 3\n"
     ]
    }
   ],
   "source": [
    "def f( x ):\n",
    "    x = x + 1\n",
    "    print('in f(x): x =', x)  \n",
    "    return x\n",
    "\n",
    "x = 3\n",
    "z = f(x)\n",
    "print(f\"x = {x}\")"
   ]
  },
  {
   "cell_type": "code",
   "execution_count": null,
   "metadata": {
    "pycharm": {
     "name": "#%%\n"
    }
   },
   "outputs": [],
   "source": [
    "def func_a():\n",
    "    print ('inside func_a')\n",
    "\n",
    "def func_b(y):\n",
    "    print ('inside func_b') \n",
    "    return y\n",
    "\n",
    "def func_c(z):\n",
    "    print ('inside func_c')  \n",
    "    return z()\n",
    "\n",
    "print (func_a(), \"\\n\")\n",
    "print (5 + func_b(2))\n",
    "print (\"hello \" + func_b(\"world\") + \"!\\n\")\n",
    "print (func_c(func_a))\n",
    "print (func_c (5)) # RuntimeError"
   ]
  },
  {
   "cell_type": "markdown",
   "metadata": {
    "pycharm": {
     "name": "#%% md\n"
    }
   },
   "source": [
    "# scope Example"
   ]
  },
  {
   "cell_type": "code",
   "execution_count": null,
   "metadata": {
    "pycharm": {
     "name": "#%%\n"
    }
   },
   "outputs": [],
   "source": [
    "# Inside a function, cannot modify a variable defined  outside\n",
    "def f(y):\n",
    "    x = 1   # Can access but can't chage x so x is redefined insdie this function\n",
    "    x += 1\n",
    "    print(x)\n",
    "\n",
    "x = 5\n",
    "f(x)\n",
    "print(x)  # x Not changed"
   ]
  },
  {
   "cell_type": "code",
   "execution_count": null,
   "metadata": {
    "pycharm": {
     "name": "#%%\n"
    }
   },
   "outputs": [],
   "source": [
    "# x is not modified inside the fnction so x is the one defined outside the function\n",
    "def g(y):\n",
    "    print(x)\n",
    "    print(x + 1)\n",
    "\n",
    "x = 5\n",
    "g(x)\n",
    "print(x)  # x Not changed"
   ]
  },
  {
   "cell_type": "code",
   "execution_count": null,
   "metadata": {
    "pycharm": {
     "name": "#%%\n"
    }
   },
   "outputs": [],
   "source": [
    "def h(y) :\n",
    "    x += 1  # X is being updated so a new local variable x is created but it's referring to an unbounded variable (x)\n",
    "\n",
    "x = 5\n",
    "h(x)\n",
    "print(x)  # Error"
   ]
  },
  {
   "cell_type": "markdown",
   "metadata": {
    "pycharm": {
     "name": "#%% md\n"
    }
   },
   "source": [
    "# Data Structure - Tuple"
   ]
  },
  {
   "cell_type": "code",
   "execution_count": 14,
   "metadata": {
    "pycharm": {
     "name": "#%%\n"
    }
   },
   "outputs": [
    {
     "name": "stdout",
     "output_type": "stream",
     "text": [
      "<class 'int'>\n"
     ]
    }
   ],
   "source": [
    "print (type((1)))"
   ]
  },
  {
   "cell_type": "code",
   "execution_count": 15,
   "metadata": {
    "pycharm": {
     "name": "#%%\n"
    }
   },
   "outputs": [
    {
     "name": "stdout",
     "output_type": "stream",
     "text": [
      "<class 'tuple'>\n"
     ]
    }
   ],
   "source": [
    "print (type((1,))) "
   ]
  },
  {
   "cell_type": "code",
   "execution_count": 16,
   "metadata": {
    "pycharm": {
     "name": "#%%\n"
    }
   },
   "outputs": [
    {
     "name": "stdout",
     "output_type": "stream",
     "text": [
      "(1, 'hello', 3.5)\n"
     ]
    }
   ],
   "source": [
    "t = (1, \"hello\", 3.5)\n",
    "print(t)"
   ]
  },
  {
   "cell_type": "code",
   "execution_count": 17,
   "metadata": {
    "pycharm": {
     "name": "#%%\n"
    }
   },
   "outputs": [
    {
     "ename": "TypeError",
     "evalue": "'tuple' object does not support item assignment",
     "output_type": "error",
     "traceback": [
      "\u001B[1;31m---------------------------------------------------------------------------\u001B[0m",
      "\u001B[1;31mTypeError\u001B[0m                                 Traceback (most recent call last)",
      "\u001B[1;32mc:\\Users\\Alina\\OneDrive - The University of Colorado Denver\\Coding\\CSCI-3412\\Lecture-1\\Python Lecture 1.ipynb Cell 47\u001B[0m in \u001B[0;36m<module>\u001B[1;34m\u001B[0m\n\u001B[1;32m----> <a href='vscode-notebook-cell:/c%3A/Users/Alina/OneDrive%20-%20The%20University%20of%20Colorado%20Denver/Coding/CSCI-3412/Lecture-1/Python%20Lecture%201.ipynb#X64sZmlsZQ%3D%3D?line=0'>1</a>\u001B[0m t[\u001B[39m2\u001B[39m] \u001B[39m=\u001B[39m \u001B[39m3\u001B[39m\n",
      "\u001B[1;31mTypeError\u001B[0m: 'tuple' object does not support item assignment"
     ]
    }
   ],
   "source": [
    "t[2] = 3"
   ]
  },
  {
   "cell_type": "code",
   "execution_count": null,
   "metadata": {
    "pycharm": {
     "name": "#%%\n"
    }
   },
   "outputs": [],
   "source": [
    "def get_data(aTuple):\n",
    "    nums = ()\n",
    "    words = ()\n",
    "    for t in aTuple:  \n",
    "        nums = nums + (t[0],)\n",
    "        if t[1] not in words:\n",
    "            words = words + (t[1],)\n",
    "            \n",
    "    min_n = min(nums)  \n",
    "    max_n = max(nums)\n",
    "    unique_words = len(words)\n",
    "          \n",
    "    return (min_n, max_n, unique_words)\n",
    "\n",
    "myTuple = ((0, \"hello\"), (1, \"hi\"), (2, \"hi\"))\n",
    "(minVal, maxVal, unique) = get_data(myTuple)\n",
    "print(minVal, maxVal, unique)"
   ]
  },
  {
   "cell_type": "markdown",
   "metadata": {
    "pycharm": {
     "name": "#%% md\n"
    }
   },
   "source": [
    "# Data Structure - List"
   ]
  },
  {
   "cell_type": "code",
   "execution_count": null,
   "metadata": {
    "pycharm": {
     "name": "#%%\n"
    }
   },
   "outputs": [],
   "source": [
    "A = [1, 2, 4, 3, 4]\n",
    "A.remove(4)\n",
    "# (1)This will print [1, 2, 3, 4]\n",
    "print(f\"Example 1 : A = {A}\")"
   ]
  },
  {
   "cell_type": "code",
   "execution_count": null,
   "metadata": {
    "pycharm": {
     "name": "#%%\n"
    }
   },
   "outputs": [],
   "source": [
    "# (2) Delete an item with index\n",
    "A = [1, 2, 4, 3, 4]\n",
    "del A[2]    # how come del works without enclosing parentheses?  --> 'del' is a keyword\n",
    "\n",
    "# This will print [1, 2, 3, 4]\n",
    "# Two ways to format a string\n",
    "print(\"Example 2 : A = {}\".format(A))\n",
    "print(f\"Example 2 : A = {A}\")"
   ]
  },
  {
   "cell_type": "code",
   "execution_count": null,
   "metadata": {
    "pycharm": {
     "name": "#%%\n"
    }
   },
   "outputs": [],
   "source": [
    "# (3) Delete all items\n",
    "A = [1, 2, 4, 3, 4]\n",
    "del A[:]\n",
    "# This will print []\n",
    "print(\"Example 3 : A = {}\".format(A))"
   ]
  },
  {
   "cell_type": "code",
   "execution_count": null,
   "metadata": {
    "pycharm": {
     "name": "#%%\n"
    }
   },
   "outputs": [],
   "source": [
    "# (4) Delete a slice 2, 4\n",
    "A = [1, 2, 4, 3, 4]\n",
    "del A[1:3]\n",
    "# This will print [1, 3, 4]\n",
    "print(\"Example 4 : A = {}\".format(A))\n",
    " "
   ]
  },
  {
   "cell_type": "code",
   "execution_count": null,
   "metadata": {
    "pycharm": {
     "name": "#%%\n"
    }
   },
   "outputs": [],
   "source": [
    "# (5) pop: remove and get the last item\n",
    "A = [1, 2, 4, 3, 4]\n",
    "x = A.pop()\n",
    "\n",
    "# This will print [1, 2, 4, 3]\n",
    "print(\"Example 5 : A = {}\".format(A))\n",
    "\n",
    "# This will print 4\n",
    "print(\"Example 5 : x = {}\".format(x))\n",
    " "
   ]
  },
  {
   "cell_type": "code",
   "execution_count": null,
   "metadata": {
    "pycharm": {
     "name": "#%%\n"
    }
   },
   "outputs": [],
   "source": [
    "# (6) pop with index: remove and get the second item\n",
    "A = [1, 2, 4, 3, 4]\n",
    "x = A.pop(1)\n",
    "\n",
    "# This will print [1, 4, 3, 4]\n",
    "print(\"Example 6 : A = {}\".format(A))\n",
    "\n",
    "# This will print 2\n",
    "print(\"Example 6 : x = {}\".format(x))"
   ]
  },
  {
   "cell_type": "code",
   "execution_count": null,
   "metadata": {
    "pycharm": {
     "name": "#%%\n"
    }
   },
   "outputs": [],
   "source": [
    "B = [1,2,3,4]\n",
    "sorted (B)  \n",
    "del B[1]     \n",
    "B"
   ]
  },
  {
   "cell_type": "markdown",
   "metadata": {
    "pycharm": {
     "name": "#%% md\n"
    }
   },
   "source": [
    "# some more function scope stuff"
   ]
  },
  {
   "cell_type": "code",
   "execution_count": null,
   "metadata": {
    "pycharm": {
     "name": "#%%\n"
    }
   },
   "outputs": [],
   "source": [
    "def f(y):\n",
    "    x = 1\n",
    "    x += 1\n",
    "    print(\"Local: \", x)\n",
    "    \n",
    "x = 5\n",
    "f(x)\n",
    "print(\"Global: \", x)"
   ]
  },
  {
   "cell_type": "code",
   "execution_count": null,
   "metadata": {
    "pycharm": {
     "name": "#%%\n"
    }
   },
   "outputs": [],
   "source": [
    "def g(y):\n",
    "    print(\"Local: \", x)\n",
    "    print(\"Local 1: \", x+1)\n",
    "    \n",
    "x = 5\n",
    "g(x)\n",
    "print(\"Global: \", x)"
   ]
  },
  {
   "cell_type": "code",
   "execution_count": null,
   "metadata": {
    "pycharm": {
     "name": "#%%\n"
    }
   },
   "outputs": [],
   "source": [
    "def h(y):\n",
    "    x += 1\n",
    "    \n",
    "x = 5\n",
    "h(x)\n",
    "print(x)"
   ]
  },
  {
   "cell_type": "code",
   "execution_count": null,
   "metadata": {
    "pycharm": {
     "name": "#%%\n"
    }
   },
   "outputs": [],
   "source": [
    "def g(x):\n",
    "    \n",
    "    def h():\n",
    "        x = 'abc'  \n",
    "        \n",
    "    x = x + 1\n",
    "    print('g: x =', x)  \n",
    "    h()\n",
    "    return x\n",
    "\n",
    "x = 3\n",
    "z = g(x)\n",
    "print (x, z)\n"
   ]
  },
  {
   "cell_type": "markdown",
   "metadata": {
    "pycharm": {
     "name": "#%% md\n"
    }
   },
   "source": [
    "# OOP"
   ]
  },
  {
   "cell_type": "code",
   "execution_count": null,
   "metadata": {
    "pycharm": {
     "name": "#%%\n"
    }
   },
   "outputs": [],
   "source": [
    "# Everything is object\n",
    "x, y = (4, 5)\n",
    "print (x + y)\n",
    "print(x.__add__(y))"
   ]
  },
  {
   "cell_type": "code",
   "execution_count": null,
   "metadata": {
    "pycharm": {
     "name": "#%%\n"
    }
   },
   "outputs": [],
   "source": [
    "# Coordinate class\n",
    "class Coordinate(object):\n",
    "    def __init__ (self, x, y):\n",
    "        self.x = x  \n",
    "        self.y = y\n",
    "        \n",
    "    def distance(self, other):  \n",
    "        x_diff_sq = (self.x-other.x)**2  \n",
    "        y_diff_sq = (self.y-other.y)**2\n",
    "        return (x_diff_sq + y_diff_sq)**0.5\n",
    "    \n",
    "    '''\n",
    "    def __str__ (self) :\n",
    "        return \"<\" + str(self.x) + \",\" + str(self.y)+ \">\"\n",
    "    '''"
   ]
  },
  {
   "cell_type": "code",
   "execution_count": null,
   "metadata": {
    "pycharm": {
     "name": "#%%\n"
    }
   },
   "outputs": [],
   "source": [
    "# testing __str()__\n",
    "c = Coordinate(3,4)  \n",
    "origin = Coordinate(0,0)  \n",
    "print(c.x)  \n",
    "print(origin.x)\n",
    "print(c)"
   ]
  },
  {
   "cell_type": "code",
   "execution_count": null,
   "metadata": {
    "pycharm": {
     "name": "#%%\n"
    }
   },
   "outputs": [],
   "source": [
    "isinstance(c, Coordinate)"
   ]
  },
  {
   "cell_type": "code",
   "execution_count": null,
   "metadata": {
    "pycharm": {
     "name": "#%%\n"
    }
   },
   "outputs": [],
   "source": [
    "#No function overloading is supported in Python\n",
    "def sum (x, y):\n",
    "      return x + y\n",
    "\n",
    "def sum (x, y, z):\n",
    "      return x + y + z\n",
    "\n",
    "print(sum(5,10, 15))\n",
    "#print(sum(5,10))"
   ]
  },
  {
   "cell_type": "code",
   "execution_count": null,
   "metadata": {
    "pycharm": {
     "name": "#%%\n"
    }
   },
   "outputs": [],
   "source": [
    "import sys\n",
    "dir(sys)"
   ]
  },
  {
   "cell_type": "markdown",
   "metadata": {
    "pycharm": {
     "name": "#%% md\n"
    }
   },
   "source": [
    "# Map, Filter, Reduce"
   ]
  },
  {
   "cell_type": "code",
   "execution_count": null,
   "metadata": {
    "pycharm": {
     "name": "#%%\n"
    }
   },
   "outputs": [],
   "source": [
    "my_pets = ['alfred', 'tabitha', 'william', 'arla']\n",
    "uppered_pets = []"
   ]
  },
  {
   "cell_type": "code",
   "execution_count": null,
   "metadata": {
    "pycharm": {
     "name": "#%%\n"
    }
   },
   "outputs": [],
   "source": [
    "# mapping - alternative 1\n",
    "for pet in my_pets:\n",
    "    pet_ = pet.upper()\n",
    "    uppered_pets.append(pet_)\n",
    "\n",
    "print(uppered_pets)"
   ]
  },
  {
   "cell_type": "code",
   "execution_count": null,
   "metadata": {
    "pycharm": {
     "name": "#%%\n"
    }
   },
   "outputs": [],
   "source": [
    "# mapping - alternative 2\n",
    "uppered_pets = list(map(str.upper, my_pets))\n",
    "print(uppered_pets)"
   ]
  },
  {
   "cell_type": "code",
   "execution_count": null,
   "metadata": {
    "pycharm": {
     "name": "#%%\n"
    }
   },
   "outputs": [],
   "source": [
    "# Filter an element without 'l'\n",
    "filtered_pets = list(filter((lambda x: \"l\" in x), my_pets))\n",
    "print(filtered_pets)"
   ]
  },
  {
   "cell_type": "code",
   "execution_count": null,
   "metadata": {
    "pycharm": {
     "name": "#%%\n"
    }
   },
   "outputs": [],
   "source": [
    "# Reduce: like an arithmetic series\n",
    "# Need to import reduce() from functools module, not built-in function\n",
    "# It reduces a list of items to a single cumulative value. \n",
    "from functools import reduce\n",
    "\n",
    "totalLength = len(reduce((lambda x, y: x + y), my_pets))\n",
    "print(totalLength)"
   ]
  },
  {
   "cell_type": "code",
   "execution_count": null,
   "metadata": {
    "pycharm": {
     "name": "#%%\n"
    }
   },
   "outputs": [],
   "source": [
    "help (\"str\")"
   ]
  },
  {
   "cell_type": "markdown",
   "metadata": {
    "pycharm": {
     "name": "#%% md\n"
    }
   },
   "source": [
    "# HW1 A soultion"
   ]
  },
  {
   "cell_type": "code",
   "execution_count": 2,
   "metadata": {
    "pycharm": {
     "name": "#%%\n"
    }
   },
   "outputs": [
    {
     "name": "stdout",
     "output_type": "stream",
     "text": [
      "Hello CSCI 3412 !!\n",
      "Please enter an integer:10\n",
      "Num:  -10 100\n",
      "Num:  -8 64\n",
      "Num:  -6 36\n",
      "Num:  -4 16\n",
      "Num:  -2 4\n",
      "Num:  0 0\n",
      "Num:  2 4\n",
      "Num:  4 16\n",
      "Num:  6 36\n",
      "Num:  8 64\n",
      "Num:  10 100\n",
      "\n",
      "Formatted version\n",
      "Num:   -10      100\n",
      "Num:    -8       64\n",
      "Num:    -6       36\n",
      "Num:    -4       16\n",
      "Num:    -2        4\n",
      "Num:     0        0\n",
      "Num:     2        4\n",
      "Num:     4       16\n",
      "Num:     6       36\n",
      "Num:     8       64\n",
      "Num:    10      100\n"
     ]
    }
   ],
   "source": [
    "# If your code has more than 4 lines except the ones coded for error checking, \n",
    "# your code may not be pythonic.\n",
    "print(\"Hello CSCI 3412 !!\")\n",
    "aNum = int(input(\"Please enter an integer:\"))\n",
    "\n",
    "# unformatted version\n",
    "for i in range(-aNum, aNum + 1, 2):     \n",
    "    print(\"Num: \", i, i**2)\n",
    "\n",
    "# string formatted version\n",
    "print(\"\\nFormatted version\")\n",
    "for i in range(-aNum, aNum+1, 2): \n",
    "    print (f\"Num: {i: >5} {i**2: >8}\" )"
   ]
  },
  {
   "cell_type": "code",
   "execution_count": null,
   "metadata": {
    "pycharm": {
     "name": "#%%\n"
    }
   },
   "outputs": [],
   "source": []
  }
 ],
 "metadata": {
  "kernelspec": {
   "display_name": "Python 3.9.0 64-bit",
   "language": "python",
   "name": "python3"
  },
  "language_info": {
   "codemirror_mode": {
    "name": "ipython",
    "version": 3
   },
   "file_extension": ".py",
   "mimetype": "text/x-python",
   "name": "python",
   "nbconvert_exporter": "python",
   "pygments_lexer": "ipython3",
   "version": "3.9.0"
  },
  "vscode": {
   "interpreter": {
    "hash": "963d1507aa032acadd3c67c7489673d14aa9f595787be7f50517f4b979fa1d5f"
   }
  }
 },
 "nbformat": 4,
 "nbformat_minor": 2
}